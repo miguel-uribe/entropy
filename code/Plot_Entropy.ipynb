{
 "cells": [
  {
   "cell_type": "code",
   "execution_count": null,
   "id": "f458bb57",
   "metadata": {},
   "outputs": [],
   "source": [
    "import numpy as np\n",
    "import pandas as pd\n",
    "import antropy as ent\n",
    "import matplotlib.pyplot as plt\n",
    "import matplotlib.gridspec as gridspec\n",
    "from scipy.fft import fft, fftfreq \n",
    "import seaborn as sns\n",
    "from scipy import signal\n",
    "import seaborn as sns\n",
    "from scipy import stats\n",
    "from os.path import exists\n",
    "\n",
    "sns.set_context('paper')"
   ]
  },
  {
   "cell_type": "markdown",
   "id": "1b3ca016",
   "metadata": {},
   "source": [
    "# Definiendo las funciones requeridas"
   ]
  },
  {
   "cell_type": "code",
   "execution_count": null,
   "id": "8ecf0a00",
   "metadata": {},
   "outputs": [],
   "source": [
    "\n",
    "# Gráfica de la evolución de la entropía para diferentes subjects\n",
    "def plotEntropyAnalisis(subjects, phaseslist, ent_kind, metrics, step, overlap):\n",
    "    bandnames = ['delta', 'theta', 'alpha', 'beta', 'gamma', 'all bands']\n",
    "    print(\"loading the data\")\n",
    "    # we load the data\n",
    "    for i,subject in enumerate(subjects):\n",
    "        phases = phaseslist[i]\n",
    "        comparison = phases[0]+phases[1]\n",
    "        for metric in metrics:\n",
    "            fileroot = 'results/entropy_'+subject+'_'+ent_kind+'_'+str(metric)+'_'+str(step)+'_'+str(overlap)\n",
    "            ent = pd.read_excel(fileroot+'_ent.xlsx')\n",
    "            ent['metric'] = metric\n",
    "            ent['subject'] = subject\n",
    "            stat = pd.read_excel(fileroot+'_'+phases[0]+'_stats.xlsx')\n",
    "            mask = pd.notna(stat['diff'])\n",
    "            stat = stat[mask]\n",
    "            stat['metric'] = metric\n",
    "            stat['subject'] = subject\n",
    "            stat_prepost = pd.read_excel(fileroot+'_'+comparison+'_stats.xlsx')\n",
    "            mask = pd.notna(stat_prepost['diff'])\n",
    "            stat_prepost = stat_prepost[mask]\n",
    "            stat_prepost['metric'] = metric\n",
    "            stat_prepost['subject'] = subject\n",
    "            try:\n",
    "                ent_data = pd.concat([ent_data, ent])\n",
    "                stat_data = pd.concat([stat_data, stat])\n",
    "                stat_prepost_data = pd.concat([stat_prepost_data, stat_prepost])\n",
    "            except:\n",
    "                ent_data = ent\n",
    "                stat_data = stat\n",
    "                stat_prepost_data = stat_prepost\n",
    "            # creating a new column with the subject + session information\n",
    "            ent_data['info'] = ent_data['subject']+'_'+ent_data['sesion'].astype('str')+'_'+ent_data['fase']\n",
    "            stat_data['info'] = stat_data['subject']+'_'+stat_data['sesion'].astype('str')\n",
    "            stat_prepost_data['info'] = stat_prepost_data['subject']+'_'+stat_prepost_data['sesion'].astype('str')\n",
    "\n",
    "    print(\"loaded the data\")      \n",
    "    \n",
    "    # A figure will be created for each band and each EEG. In each case a figure showing the evolution of the calculated\n",
    "    # entropy as a function of the used metric. The session number, or control number, will be used as the hue\n",
    "    \n",
    "    \n",
    "    for band in bandnames:\n",
    "        for eeg in ['EEG1', 'EEG2']:\n",
    "            ###################################################################################\n",
    "            ################## GENERATING THE PLOT\n",
    "            if subjects[-1]!='C':\n",
    "                fig = plt.figure(figsize=(10,16))\n",
    "                spec = gridspec.GridSpec(nrows = 2, ncols=1, figure=fig)\n",
    "                spec.update(left=0.05, right= 0.99, top = 0.95, bottom = 0.52, wspace=0.1, hspace = 0.25)\n",
    "                spec2 = gridspec.GridSpec(nrows = 2, ncols=1, figure=fig)\n",
    "                spec2.update(left=0.05, right= 0.99, top = 0.46, bottom = 0.03, wspace=0.1, hspace = 0.25)\n",
    "            else:\n",
    "                fig = plt.figure(figsize=(10,8))\n",
    "                spec = gridspec.GridSpec(nrows = 2, ncols=1, figure=fig)\n",
    "                spec.update(left=0.05, right= 0.99, top = 0.9, bottom = 0.1, wspace=0.1, hspace = 0.25)\n",
    "\n",
    "                \n",
    "\n",
    "            line1 = []\n",
    "            line2 = []\n",
    "            line3 = []\n",
    "            line4 = []\n",
    "            line1.append(plt.subplot(spec[0,0]))\n",
    "            line2.append(plt.subplot(spec[1,0], sharey = line1[0]))\n",
    "            if subjects[-1]!='C':\n",
    "                line3.append(plt.subplot(spec2[0,0]))\n",
    "                line4.append(plt.subplot(spec2[1,0], sharey = line3[0]))\n",
    "\n",
    "\n",
    "            ax = [line1,line2,line3,line4]\n",
    "  \n",
    "            #ax.set_title('Evolución entropía\\n modo: '+key+', señal: '+eeg)\n",
    "            if ent_kind == 'sampen':\n",
    "                fig.suptitle('Sample Entropy; band: '+band+'; eeg: '+eeg)\n",
    "            elif ent_kind == 'permen':\n",
    "                fig.suptitle('Permutation Entropy; band: '+band+'; eeg: '+eeg)\n",
    "\n",
    "            for i, fase in enumerate(['pre', 'post']):\n",
    "                mask = ((ent_data['fase']==fase) & (ent_data['eeg']==eeg) & (ent_data['banda']==band)) | ((ent_data['eeg']==eeg) & (ent_data['banda']==band) & (ent_data['subject']=='C'))\n",
    "                print(len(ent_data[mask]))\n",
    "                sns.boxplot(data = ent_data[mask], x='metric', y='entropia', hue ='info', ax = ax[i][0])\n",
    "                ax[i][0].legend(fontsize=7, loc = 'upper right')\n",
    "                ax[i][0].set_title(\"Evolución Entropía \"+ent_kind+' '+eeg+' '+'paso: %d; '%step + 'banda: '+ band + '; fase: '+ fase)\n",
    "\n",
    "            subnames = '_'.join(subjects)\n",
    "            if subjects[-1]!='C':                \n",
    "                mask = (stat_data['eeg']==eeg) & (stat_data['bands']==band) & (stat_data['subject']!='C')\n",
    "                sns.barplot(data = stat_data[mask], x='metric', y='diff', hue = 'sesion', ax = ax[2][0])\n",
    "                ax[2][0].axhline(y=0)\n",
    "                ax[2][0].legend(fontsize=7, loc = 'upper left')\n",
    "                ax[2][0].set_title(\"cambio \"+ subject[-1] +\" PRE-PRE \"+ent_kind+' '+eeg+' '+'paso: %d; '%step + 'banda: '+ band)\n",
    "                #sns.boxplot(data = statsPREPOST[mask], x='bands', y='diff', hue = 'sesion', ax = ax[j][3])\n",
    "                #ax[j][3].legend(fontsize=4)\n",
    "                mask = (stat_prepost_data['eeg']==eeg) & (stat_prepost_data['bands']==band) & (stat_prepost_data['subject']!='C')\n",
    "                sns.barplot(data = stat_prepost_data[mask], x='metric', y='diff', hue = 'sesion', ax = ax[3][0])\n",
    "                ax[3][0].axhline(y=0)\n",
    "                ax[3][0].legend(fontsize=7, loc = 'upper left')\n",
    "                ax[3][0].set_title(\"cambio \"+ subject[-1] +\" PRE-POST \"+ent_kind+' '+eeg+' '+'paso: %d; '%step + 'banda: '+ band)\n",
    "\n",
    "            filename = 'images/entropy_'+subnames+'_'+ent_kind+'_'+eeg+'_'+band+'_'+str(overlap)+'.png'\n",
    "            plt.savefig(filename, dpi = 400)\n",
    "            plt.close()\n",
    "            \n",
    "# Gráfica de la evolución de la entropía para diferentes subjects\n",
    "def plotEntropyAnalisisMS(subjects, phaseslist, metrics, scales, step, overlap):\n",
    "    ent_kind = 'msen'\n",
    "    bandnames = ['delta', 'theta', 'alpha', 'beta', 'gamma', 'all bands']\n",
    "    # we load the data\n",
    "    for i,subject in enumerate(subjects):\n",
    "        phases = phaseslist[i]\n",
    "        comparison = phases[0]+phases[1]\n",
    "        for metric in metrics:\n",
    "            for scale in scales:\n",
    "                print(metric,scale)\n",
    "                fileroot = 'results/entropy_'+subject+'_'+ent_kind+'_'+str(metric)+'_'+str(scale)+'_'+str(step)+'_'+str(overlap)\n",
    "                ent = pd.read_excel(fileroot+'_ent.xlsx')\n",
    "                ent['metric'] = metric\n",
    "                ent['subject'] = subject\n",
    "                ent['scale'] = scale\n",
    "                print(len(ent))\n",
    "                stat = pd.read_excel(fileroot+'_'+phases[0]+'_stats.xlsx')\n",
    "                stat['metric'] = metric\n",
    "                stat['subject'] = subject\n",
    "                stat['scale'] = scale\n",
    "                print(len(stat))\n",
    "                stat_prepost = pd.read_excel(fileroot+'_'+comparison+'_stats.xlsx')\n",
    "                stat_prepost['metric'] = metric\n",
    "                stat_prepost['subject'] = subject\n",
    "                stat_prepost['scale'] = scale\n",
    "                print(len(stat_prepost))\n",
    "                try:\n",
    "                    ent_data = pd.concat([ent_data, ent])\n",
    "                    stat_data = pd.concat([stat_data, stat])\n",
    "                    stat_prepost_data = pd.concat([stat_prepost_data, stat_prepost])\n",
    "                except:\n",
    "                    ent_data = ent\n",
    "                    stat_data = stat\n",
    "                    stat_prepost_data = stat_prepost\n",
    "                # creating a new column with the subject + session information\n",
    "                ent_data['info'] = ent_data['subject']+'_'+ent_data['sesion'].astype('str')+'_'+ent_data['fase']\n",
    "                stat_data['info'] = stat_data['subject']+'_'+stat_data['sesion'].astype('str')\n",
    "                stat_prepost_data['info'] = stat_prepost_data['subject']+'_'+stat_prepost_data['sesion'].astype('str')\n",
    "\n",
    "                    \n",
    "    print(\"loaded the data\")\n",
    "    # A figure will be created for each band, each EEG, and each metric. In each case a figure showing the evolution of the calculated\n",
    "    # entropy as a function of the used metric. The session number, or control number, will be used as the hue\n",
    "    \n",
    "    for metric in metrics:\n",
    "        for band in bandnames:\n",
    "            for eeg in ['EEG1', 'EEG2']:\n",
    "                ###################################################################################\n",
    "                ################## GENERATING THE PLOT\n",
    "                if subjects[-1]!='C':\n",
    "                    fig = plt.figure(figsize=(10,16))\n",
    "                    spec = gridspec.GridSpec(nrows = 2, ncols=1, figure=fig)\n",
    "                    spec.update(left=0.05, right= 0.99, top = 0.95, bottom = 0.52, wspace=0.1, hspace = 0.25)\n",
    "                    spec2 = gridspec.GridSpec(nrows = 2, ncols=1, figure=fig)\n",
    "                    spec2.update(left=0.05, right= 0.99, top = 0.46, bottom = 0.03, wspace=0.1, hspace = 0.25)\n",
    "                else:\n",
    "                    fig = plt.figure(figsize=(10,8))\n",
    "                    spec = gridspec.GridSpec(nrows = 2, ncols=1, figure=fig)\n",
    "                    spec.update(left=0.05, right= 0.99, top = 0.9, bottom = 0.1, wspace=0.1, hspace = 0.25)\n",
    "\n",
    "\n",
    "\n",
    "                line1 = []\n",
    "                line2 = []\n",
    "                line3 = []\n",
    "                line4 = []\n",
    "                line1.append(plt.subplot(spec[0,0]))\n",
    "                line2.append(plt.subplot(spec[1,0], sharey = line1[0]))\n",
    "                if subjects[-1]!='C':\n",
    "                    line3.append(plt.subplot(spec2[0,0]))\n",
    "                    line4.append(plt.subplot(spec2[1,0], sharey = line3[0]))\n",
    "\n",
    "\n",
    "                ax = [line1,line2,line3,line4]\n",
    "\n",
    "                #ax.set_title('Evolución entropía\\n modo: '+key+', señal: '+eeg)\n",
    "                if ent_kind == 'sampen':\n",
    "                    fig.suptitle('Sample Entropy; band: '+band+'; eeg: '+eeg+'; metric: '+ metric)\n",
    "                elif ent_kind == 'permen':\n",
    "                    fig.suptitle('Permutation Entropy; band: '+band+'; eeg: '+eeg+'; metric: '+ metric)\n",
    "\n",
    "                for i, fase in enumerate(['pre', 'post']):\n",
    "                    mask = ((ent_data['fase']==fase) & (ent_data['eeg']==eeg) & (ent_data['banda']==band) & (ent_data['metric']==metric)) | ((ent_data['metric']==metric) & (ent_data['eeg']==eeg) & (ent_data['banda']==band) & (ent_data['subject']=='C'))\n",
    "                    sns.boxplot(data = ent_data[mask], x='scale', y='entropia', hue ='info', ax = ax[i][0])\n",
    "                    ax[i][0].legend(fontsize=7, loc = 'upper right')\n",
    "                    ax[i][0].set_title(\"Evolución Entropía \"+ent_kind+' '+eeg+' '+'paso: %d; '%step + 'banda: '+ band + '; fase: '+ fase)\n",
    "\n",
    "                subnames = '_'.join(subjects)\n",
    "                if subjects[-1]!='C':                \n",
    "                    mask = (stat_data['eeg']==eeg) & (stat_data['bands']==band) & (stat_data['metric']==metric) & (stat_data['subject']!='C')\n",
    "                    sns.barplot(data = stat_data[mask], x='scale', y='diff', hue = 'sesion', ax = ax[2][0])\n",
    "                    ax[2][0].axhline(y=0)\n",
    "                    ax[2][0].legend(fontsize=7, loc = 'upper left')\n",
    "                    ax[2][0].set_title(\"cambio \"+ subject[-1] +\" PRE-PRE \"+ent_kind+' '+eeg+' '+'paso: %d; '%step + 'banda: '+ band)\n",
    "                    #sns.boxplot(data = statsPREPOST[mask], x='bands', y='diff', hue = 'sesion', ax = ax[j][3])\n",
    "                    #ax[j][3].legend(fontsize=4)\n",
    "                    mask = (stat_prepost_data['eeg']==eeg) & (stat_prepost_data['bands']==band) & (stat_prepost_data['subject']!='C') & (stat_prepost_data['metric']==metric)\n",
    "                    sns.barplot(data = stat_prepost_data[mask], x='scale', y='diff', hue = 'sesion', ax = ax[3][0])\n",
    "                    ax[3][0].axhline(y=0)\n",
    "                    ax[3][0].legend(fontsize=7, loc = 'upper left')\n",
    "                    ax[3][0].set_title(\"cambio \"+ subject[-1] +\" PRE-POST \"+ent_kind+' '+eeg+' '+'paso: %d; '%step + 'banda: '+ band)\n",
    "\n",
    "                filename = 'images/entropy_'+subnames+'_'+ent_kind+'_'+eeg+'_'+band+'_'+str(metric)+'_'+str(overlap)+'.png'\n",
    "                plt.savefig(filename, dpi = 400)\n",
    "                plt.close()"
   ]
  },
  {
   "cell_type": "markdown",
   "id": "82b1a0af",
   "metadata": {},
   "source": [
    "# Plotting"
   ]
  },
  {
   "cell_type": "markdown",
   "id": "cd18e36a",
   "metadata": {},
   "source": [
    "## Control evolution"
   ]
  },
  {
   "cell_type": "markdown",
   "id": "62999c31",
   "metadata": {},
   "source": [
    "## Paciente 1 Evolución"
   ]
  },
  {
   "cell_type": "code",
   "execution_count": null,
   "id": "e381c872",
   "metadata": {},
   "outputs": [],
   "source": [
    "plotEntropyAnalisis(['C', 'P1'],[['inicial','final'],['pre','post']],'sampen',np.arange(2,20,2),1,0.8)\n",
    "plotEntropyAnalisis(['C', 'P1'],[['inicial','final'],['pre','post']],'permen',np.arange(3,20,2),1,0.8)\n",
    "plotEntropyAnalisisMS(['C', 'P1'],[['inicial','final'],['pre','post']], [2,3], np.arange(2,20,2), 1, 0.8)"
   ]
  },
  {
   "cell_type": "markdown",
   "id": "ea24459f",
   "metadata": {},
   "source": [
    "## Paciente 2 Evolución"
   ]
  },
  {
   "cell_type": "code",
   "execution_count": null,
   "id": "19858e34",
   "metadata": {},
   "outputs": [],
   "source": [
    "plotEntropyAnalisis(['C', 'P2'],[['inicial','final'],['pre','post']],'sampen',np.arange(2,20,2),1,0.8)\n",
    "plotEntropyAnalisis(['C', 'P2'],[['inicial','final'],['pre','post']],'permen',np.arange(3,20,2),1,0.8)\n",
    "plotEntropyAnalisisMS(['C', 'P2'],[['inicial','final'],['pre','post']], [2,3], np.arange(2,20,2), 1, 0.8)"
   ]
  },
  {
   "cell_type": "markdown",
   "id": "f3022e2d",
   "metadata": {},
   "source": [
    "## Paciente 3 Evolución"
   ]
  },
  {
   "cell_type": "code",
   "execution_count": null,
   "id": "f41da336",
   "metadata": {},
   "outputs": [],
   "source": [
    "plotEntropyAnalisis(['C', 'P3'],[['inicial','final'],['pre','post']],'sampen',np.arange(2,20,2),1,0.8)\n",
    "plotEntropyAnalisis(['C', 'P3'],[['inicial','final'],['pre','post']],'permen',np.arange(3,20,2),1,0.8)\n",
    "plotEntropyAnalisisMS(['C', 'P3'],[['inicial','final'],['pre','post']], [2,3], np.arange(2,20,2), 1, 0.8)"
   ]
  },
  {
   "cell_type": "markdown",
   "id": "45865c0a",
   "metadata": {},
   "source": [
    "### Paciente 4 Evolución"
   ]
  },
  {
   "cell_type": "code",
   "execution_count": null,
   "id": "45e543b0",
   "metadata": {},
   "outputs": [],
   "source": [
    "plotEntropyAnalisis(['C', 'P4'],[['inicial','final'],['pre','post']],'sampen',np.arange(2,20,2),1,0.8)\n",
    "plotEntropyAnalisis(['C', 'P4'],[['inicial','final'],['pre','post']],'permen',np.arange(3,20,2),1,0.8)\n",
    "plotEntropyAnalisisMS(['C', 'P4'],[['inicial','final'],['pre','post']], [2,3], np.arange(2,20,2), 1, 0.8)"
   ]
  },
  {
   "cell_type": "markdown",
   "id": "95ad946c",
   "metadata": {},
   "source": [
    "### Paciente 5 Evolución"
   ]
  },
  {
   "cell_type": "code",
   "execution_count": null,
   "id": "928325b5",
   "metadata": {},
   "outputs": [],
   "source": [
    "plotEntropyAnalisis(['C', 'P5'],[['inicial','final'],['pre','post']],'sampen',np.arange(2,20,2),1,0.8)\n",
    "plotEntropyAnalisis(['C', 'P5'],[['inicial','final'],['pre','post']],'permen',np.arange(3,20,2),1,0.8)\n",
    "plotEntropyAnalisisMS(['C', 'P5'],[['inicial','final'],['pre','post']], [2,3], np.arange(2,20,2), 1, 0.8)"
   ]
  },
  {
   "cell_type": "markdown",
   "id": "0b744e59",
   "metadata": {},
   "source": [
    "### Paciente 6 Evolución"
   ]
  },
  {
   "cell_type": "code",
   "execution_count": null,
   "id": "3ea34b9c",
   "metadata": {},
   "outputs": [],
   "source": [
    "plotEntropyAnalisis(['C', 'P6'],[['inicial','final'],['pre','post']],'sampen',np.arange(2,20,2),1,0.8)\n",
    "plotEntropyAnalisis(['C', 'P6'],[['inicial','final'],['pre','post']],'permen',np.arange(3,20,2),1,0.8)\n",
    "plotEntropyAnalisisMS(['C', 'P6'],[['inicial','final'],['pre','post']], [2,3], np.arange(2,20,2), 1, 0.8)"
   ]
  },
  {
   "cell_type": "markdown",
   "id": "a5d13609",
   "metadata": {},
   "source": [
    "# Paciente 7"
   ]
  },
  {
   "cell_type": "code",
   "execution_count": null,
   "id": "d980693c",
   "metadata": {},
   "outputs": [],
   "source": [
    "plotEntropyAnalisis(['C', 'P7'],[['inicial','final'],['pre','post']],'sampen',np.arange(2,20,2),1,0.8)\n",
    "plotEntropyAnalisis(['C', 'P7'],[['inicial','final'],['pre','post']],'permen',np.arange(3,20,2),1,0.8)\n",
    "plotEntropyAnalisisMS(['C', 'P7'],[['inicial','final'],['pre','post']], [2,3], np.arange(2,20,2), 1, 0.8)"
   ]
  },
  {
   "cell_type": "code",
   "execution_count": null,
   "id": "fc279dcc",
   "metadata": {},
   "outputs": [],
   "source": []
  }
 ],
 "metadata": {
  "kernelspec": {
   "display_name": "Python 3.8.10 ('entropy')",
   "language": "python",
   "name": "python3"
  },
  "language_info": {
   "codemirror_mode": {
    "name": "ipython",
    "version": 3
   },
   "file_extension": ".py",
   "mimetype": "text/x-python",
   "name": "python",
   "nbconvert_exporter": "python",
   "pygments_lexer": "ipython3",
   "version": "3.8.10"
  },
  "vscode": {
   "interpreter": {
    "hash": "25c5285408bafa38cec331f00e656657f9a33b7050dd42c4e488fc18328830db"
   }
  }
 },
 "nbformat": 4,
 "nbformat_minor": 5
}
